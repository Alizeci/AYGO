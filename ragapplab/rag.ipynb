{
 "cells": [
  {
   "cell_type": "code",
   "execution_count": 7,
   "metadata": {},
   "outputs": [
    {
     "name": "stdout",
     "output_type": "stream",
     "text": [
      "Respuesta: I am currently unable to\n"
     ]
    }
   ],
   "source": [
    "# Install dependencies\n",
    "# !pip install langchain\n",
    "# !pip install openai\n",
    "# !pip install notebook\n",
    "# !pip install pandas numpy matplotlib python-dotenv\n",
    "\n",
    "import langchain\n",
    "import pandas as pd\n",
    "import numpy as np\n",
    "import os\n",
    "from dotenv import load_dotenv\n",
    "\n",
    "# Load environment variables\n",
    "load_dotenv()  # Loads variables from .env into the environment\n",
    "api_key = os.environ[\"OPENAI_API_KEY\"]\n",
    "\n",
    "# Set the API key for OpenAI\n",
    "import openai\n",
    "openai.api_key = api_key\n",
    "\n",
    "# Probar la API con un mensaje simple\n",
    "try:\n",
    "    response = openai.ChatCompletion.create(\n",
    "        model=\"gpt-3.5-turbo\",\n",
    "        messages=[\n",
    "            {\"role\": \"user\", \"content\": \"Hello, can you test the API?\"}\n",
    "        ],\n",
    "        max_tokens=5\n",
    "    )\n",
    "    print(\"Respuesta:\", response['choices'][0]['message']['content'].strip())\n",
    "except openai.error.AuthenticationError:\n",
    "    print(\"Error: La API Key no es válida o no está configurada correctamente.\")\n",
    "except openai.error.OpenAIError as e:\n",
    "    print(f\"Error al conectar con la API: {e}\")\n",
    "except Exception as e:\n",
    "    print(f\"Otro error inesperado: {e}\")"
   ]
  }
 ],
 "metadata": {
  "kernelspec": {
   "display_name": ".venv",
   "language": "python",
   "name": "python3"
  },
  "language_info": {
   "codemirror_mode": {
    "name": "ipython",
    "version": 3
   },
   "file_extension": ".py",
   "mimetype": "text/x-python",
   "name": "python",
   "nbconvert_exporter": "python",
   "pygments_lexer": "ipython3",
   "version": "3.12.0"
  }
 },
 "nbformat": 4,
 "nbformat_minor": 2
}
